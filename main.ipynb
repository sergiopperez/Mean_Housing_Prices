{
 "cells": [
  {
   "cell_type": "markdown",
   "metadata": {},
   "source": [
    "---\n",
    "\n",
    "_You are currently looking at **version 1.1** of this notebook. To download notebooks and datafiles, as well as get help on Jupyter notebooks in the Coursera platform, visit the [Jupyter Notebook FAQ](https://www.coursera.org/learn/python-data-analysis/resources/0dhYG) course resource._\n",
    "\n",
    "---"
   ]
  },
  {
   "cell_type": "code",
   "execution_count": null,
   "metadata": {
    "collapsed": true
   },
   "outputs": [],
   "source": [
    "import pandas as pd\n",
    "import numpy as np\n",
    "from scipy.stats import ttest_ind"
   ]
  },
  {
   "cell_type": "markdown",
   "metadata": {},
   "source": [
    "# University towns, mean housing prices and recessions\n",
    "\n",
    "\n",
    "Definitions:\n",
    "* A _quarter_ is a specific three month period, Q1 is January through March, Q2 is April through June, Q3 is July through September, Q4 is October through December.\n",
    "* A _recession_ is defined as starting with two consecutive quarters of GDP decline, and ending with two consecutive quarters of GDP growth.\n",
    "* A _recession bottom_ is the quarter within a recession which had the lowest GDP.\n",
    "* A _university town_ is a city which has a high percentage of university students compared to the total population of the city.\n",
    "\n",
    "**Hypothesis**: University towns have their mean housing prices less effected by recessions. Run a t-test to compare the ratio of the mean price of houses in university towns the quarter before the recession starts compared to the recession bottom. (`price_ratio=quarter_before_recession/recession_bottom`)\n",
    "\n",
    "The following data files are available for this assignment:\n",
    "* From the [Zillow research data site](http://www.zillow.com/research/data/) there is housing data for the United States. In particular the datafile for [all homes at a city level](http://files.zillowstatic.com/research/public/City/City_Zhvi_AllHomes.csv), ```City_Zhvi_AllHomes.csv```, has median home sale prices at a fine grained level.\n",
    "* From the Wikipedia page on college towns is a list of [university towns in the United States](https://en.wikipedia.org/wiki/List_of_college_towns#College_towns_in_the_United_States) which has been copy and pasted into the file ```university_towns.txt```.\n",
    "* From Bureau of Economic Analysis, US Department of Commerce, the [GDP over time](http://www.bea.gov/national/index.htm#gdp) of the United States in current dollars (use the chained value in 2009 dollars), in quarterly intervals, in the file ```gdplev.xls```. For this assignment, only look at GDP data from the first quarter of 2000 onward.\n"
   ]
  },
  {
   "cell_type": "code",
   "execution_count": null,
   "metadata": {
    "collapsed": true
   },
   "outputs": [],
   "source": [
    "# Use this dictionary to map state names to two letter acronyms\n",
    "states = {'OH': 'Ohio', 'KY': 'Kentucky', 'AS': 'American Samoa', 'NV': 'Nevada', 'WY': 'Wyoming', 'NA': 'National', 'AL': 'Alabama', 'MD': 'Maryland', 'AK': 'Alaska', 'UT': 'Utah', 'OR': 'Oregon', 'MT': 'Montana', 'IL': 'Illinois', 'TN': 'Tennessee', 'DC': 'District of Columbia', 'VT': 'Vermont', 'ID': 'Idaho', 'AR': 'Arkansas', 'ME': 'Maine', 'WA': 'Washington', 'HI': 'Hawaii', 'WI': 'Wisconsin', 'MI': 'Michigan', 'IN': 'Indiana', 'NJ': 'New Jersey', 'AZ': 'Arizona', 'GU': 'Guam', 'MS': 'Mississippi', 'PR': 'Puerto Rico', 'NC': 'North Carolina', 'TX': 'Texas', 'SD': 'South Dakota', 'MP': 'Northern Mariana Islands', 'IA': 'Iowa', 'MO': 'Missouri', 'CT': 'Connecticut', 'WV': 'West Virginia', 'SC': 'South Carolina', 'LA': 'Louisiana', 'KS': 'Kansas', 'NY': 'New York', 'NE': 'Nebraska', 'OK': 'Oklahoma', 'FL': 'Florida', 'CA': 'California', 'CO': 'Colorado', 'PA': 'Pennsylvania', 'DE': 'Delaware', 'NM': 'New Mexico', 'RI': 'Rhode Island', 'MN': 'Minnesota', 'VI': 'Virgin Islands', 'NH': 'New Hampshire', 'MA': 'Massachusetts', 'GA': 'Georgia', 'ND': 'North Dakota', 'VA': 'Virginia'}"
   ]
  },
  {
   "cell_type": "code",
   "execution_count": null,
   "metadata": {
    "collapsed": true,
    "umich_part_id": "021",
    "umich_partlist_id": "004"
   },
   "outputs": [],
   "source": [
    "def get_list_of_university_towns():\n",
    "    '''Returns a DataFrame of towns and the states they are in from the \n",
    "    university_towns.txt list. The format of the DataFrame should be:\n",
    "    DataFrame( [ [\"Michigan\", \"Ann Arbor\"], [\"Michigan\", \"Yipsilanti\"] ], \n",
    "    columns=[\"State\", \"RegionName\"]  )\n",
    "    \n",
    "    The following cleaning needs to be done:\n",
    "\n",
    "    1. For \"State\", removing characters from \"[\" to the end.\n",
    "    2. For \"RegionName\", when applicable, removing every character from \" (\" to the end.\n",
    "    3. Depending on how you read the data, you may need to remove newline character '\\n'. '''\n",
    "    \n",
    "    \n",
    "    u_t=pd.read_csv('university_towns.txt', sep=\"\\n\", header = None)\n",
    "    df = pd.DataFrame(columns=['State', 'RegionName'])\n",
    "    for row in u_t.index:\n",
    "        if (u_t.iloc[row][0])[-6:]=='[edit]':\n",
    "            name_State=(u_t.iloc[row][0])[:-6]\n",
    "        else:\n",
    "            if \"(\" in (u_t.iloc[row][0]): \n",
    "                df= df.append({'State': name_State, 'RegionName': u_t.iloc[row][0].partition(\" (\")[0]}, ignore_index=True)               \n",
    "            else:\n",
    "                df= df.append({'State': name_State, 'RegionName': u_t.iloc[row][0]}, ignore_index=True)               \n",
    "    return df\n",
    "print(get_list_of_university_towns())\n",
    "#print(get_list_of_university_towns().set_index(['State','RegionName']).index)\n",
    "#get_list_of_university_towns()"
   ]
  },
  {
   "cell_type": "code",
   "execution_count": 3,
   "metadata": {
    "collapsed": true,
    "umich_part_id": "022",
    "umich_partlist_id": "004"
   },
   "outputs": [],
   "source": [
    "def get_recession_start():\n",
    "    '''Returns the year and quarter of the recession start time as a \n",
    "    string value in a format such as 2005q3'''\n",
    "    \n",
    "    df=pd.read_excel('gdplev.xls', header=219, skipfooter=0,parse_cols=[4,5],names=['Quarter', 'GDP'])\n",
    "    #print(df)\n",
    "    for index in df.index[:-2]:\n",
    "        if (df.loc[index,'GDP']>df.loc[index+1,'GDP']) and (df.loc[index+1,'GDP']>df.loc[index+2,'GDP']):\n",
    "            start=df.loc[index,'Quarter']\n",
    "            break   \n",
    "    return start\n",
    "#print(get_recession_start())\n",
    "#get_recession_start()"
   ]
  },
  {
   "cell_type": "code",
   "execution_count": 4,
   "metadata": {
    "collapsed": true,
    "umich_part_id": "023",
    "umich_partlist_id": "004"
   },
   "outputs": [],
   "source": [
    "def get_recession_end():\n",
    "    '''Returns the year and quarter of the recession end time as a \n",
    "    string value in a format such as 2005q3'''\n",
    "    \n",
    "    df=pd.read_excel('gdplev.xls', header=219, skipfooter=0,parse_cols=[4,5],names=['Quarter', 'GDP'])\n",
    "    for index1 in df.index[:-2]:\n",
    "        if (df.loc[index1,'GDP']>df.loc[index1+1,'GDP']) and (df.loc[index1+1,'GDP']>df.loc[index1+2,'GDP']):\n",
    "            for index2 in df.index[:-2]:\n",
    "                if (df.loc[index1+index2,'GDP']<df.loc[index1+index2+1,'GDP']) and (df.loc[index1+index2+1,'GDP']<df.loc[index1+index2+2,'GDP']):\n",
    "                    start=df.loc[index1,'Quarter']\n",
    "                    end=df.loc[index1+index2+2,'Quarter']          \n",
    "                    break \n",
    "            break\n",
    "    return end\n",
    "#print(get_recession_end())"
   ]
  },
  {
   "cell_type": "code",
   "execution_count": 5,
   "metadata": {
    "collapsed": true,
    "umich_part_id": "024",
    "umich_partlist_id": "004"
   },
   "outputs": [],
   "source": [
    "def get_recession_bottom():\n",
    "    '''Returns the year and quarter of the recession bottom time as a \n",
    "    string value in a format such as 2005q3'''\n",
    "    \n",
    "    df=pd.read_excel('gdplev.xls', header=219, skipfooter=0,parse_cols=[4,5],names=['Quarter', 'GDP'])\n",
    "    for index1 in df.index[:-2]:\n",
    "        if (df.loc[index1,'GDP']>df.loc[index1+1,'GDP']) and (df.loc[index1+1,'GDP']>df.loc[index1+2,'GDP']):\n",
    "            for index2 in df.index[:-2]:\n",
    "                if (df.loc[index1+index2,'GDP']<df.loc[index1+index2+1,'GDP']) and (df.loc[index1+index2+1,'GDP']<df.loc[index1+index2+2,'GDP']):\n",
    "                    start=df.loc[index1,'Quarter']\n",
    "                    end=df.loc[index1+index2+2,'Quarter']          \n",
    "                    break \n",
    "            break\n",
    "    #print(df.iloc[index1:index1+index2+2+1])\n",
    "    return df.loc[df.iloc[index1:index1+index2+2+1]['GDP'].argmin(),'Quarter']\n",
    "#print(get_recession_bottom())"
   ]
  },
  {
   "cell_type": "code",
   "execution_count": 6,
   "metadata": {
    "collapsed": true,
    "umich_part_id": "025",
    "umich_partlist_id": "004"
   },
   "outputs": [],
   "source": [
    "def convert_housing_data_to_quarters():\n",
    "    '''Converts the housing data to quarters and returns it as mean \n",
    "    values in a dataframe. This dataframe should be a dataframe with\n",
    "    columns for 2000q1 through 2016q3, and should have a multi-index\n",
    "    in the shape of [\"State\",\"RegionName\"].\n",
    "    \n",
    "    Note: Quarters are defined in the assignment description, they are\n",
    "    not arbitrary three month periods.\n",
    "    \n",
    "    The resulting dataframe should have 67 columns, and 10,730 rows.\n",
    "    '''\n",
    "    \n",
    "    df=pd.read_csv('City_Zhvi_AllHomes.csv', sep=\",\", header = 0)\n",
    "    df.replace({\"State\": states}, inplace=True)\n",
    "    df.sort_values(by=['State'], inplace=True)\n",
    "    df.set_index([\"State\",\"RegionName\"], inplace=True)\n",
    "    #print(df.loc['Delaware'])\n",
    "    \n",
    "    df.drop(df.columns[0:49], axis=1, inplace=True)\n",
    "    df.columns = pd.to_datetime(df.columns)\n",
    "    res = df.resample('Q', axis=1).mean()\n",
    "    res = res.rename(columns=lambda col: '{}q{}'.format(col.year, col.quarter))\n",
    "    return res\n",
    "#print(convert_housing_data_to_quarters())"
   ]
  },
  {
   "cell_type": "code",
   "execution_count": 1,
   "metadata": {
    "collapsed": true,
    "umich_part_id": "026",
    "umich_partlist_id": "004"
   },
   "outputs": [],
   "source": [
    "#import matplotlib.pyplot as plt\n",
    "def run_ttest():\n",
    "    '''First creates new data showing the decline or growth of housing prices\n",
    "    between the recession start and the recession bottom. Then runs a ttest\n",
    "    comparing the university town values to the non-university towns values, \n",
    "    return whether the alternative hypothesis (that the two groups are the same)\n",
    "    is true or not as well as the p-value of the confidence. '''\n",
    "    \n",
    "    uni_town=convert_housing_data_to_quarters().loc[convert_housing_data_to_quarters().index.isin(get_list_of_university_towns().set_index(['State','RegionName']).index)]\n",
    "    non_uni_town=convert_housing_data_to_quarters().loc[convert_housing_data_to_quarters().index.difference(get_list_of_university_towns().set_index(['State','RegionName']).index)]\n",
    "    \n",
    "    uni_town_recession=uni_town.loc[:,get_recession_start():get_recession_bottom()].mean()\n",
    "    non_uni_town_recession=non_uni_town.loc[:,get_recession_start():get_recession_bottom()].mean()\n",
    "    #print(uni_town.loc[:,get_recession_start():get_recession_bottom()].mean())\n",
    "    #print(non_uni_town.loc[:,get_recession_start():get_recession_bottom()].mean())\n",
    "    \n",
    "    #figure1 = plt.figure()\n",
    "    #plt.title(r'Evolution of housing prices during recession', fontsize=20)   \n",
    "    #plt.plot(np.arange(len(non_uni_town_recession.index)),non_uni_town_recession.iloc[:]);\n",
    "    #plt.plot(np.arange(len(uni_town_recession.index)),uni_town_recession.iloc[:]);\n",
    "    #plt.xticks(np.arange(len(non_uni_town_recession.index)),uni_town_recession.index)\n",
    "    #plt.yticks([190000, 200000, 210000, 220000, 230000,240000, 250000])\n",
    "    #plt.ylim([185000, 255000])\n",
    "    #plt.ylabel(r'Housing prices', fontsize=15)\n",
    "    #plt.xlabel(r'Time', fontsize=15)\n",
    "    #plt.legend([r'Non-university towns', r'University towns'], loc='upper right', fontsize=13)\n",
    "    #plt.show()\n",
    "    \n",
    "    #\n",
    "    before_recession=list(uni_town).index(get_recession_start())-1\n",
    "    uni_town['price_ratio'] = uni_town.apply (lambda row: row.loc[get_recession_bottom()]/row.iloc[before_recession], axis=1)\n",
    "    non_uni_town['price_ratio'] = non_uni_town.apply (lambda row: row.loc[get_recession_bottom()]/row.iloc[before_recession], axis=1)\n",
    "    \n",
    "    print(uni_town['price_ratio'])\n",
    "    print(non_uni_town['price_ratio'])\n",
    "    #print(scipy.stats.ttest_ind(uni_town['price_ratio'],non_uni_town['price_ratio']))\n",
    "    stats,p=scipy.stats.ttest_ind(uni_town['price_ratio'],non_uni_town['price_ratio'])\n",
    "    #mean_price_uni_town=uni_town['price_ratio'].mean()\n",
    "    #mean_price_non_uni_town=non_uni_town['price_ratio'].mean()\n",
    "    \n",
    "    if mean_price_uni_town<mean_price_non_uni_town:\n",
    "        better=\"university town\"\n",
    "    else:\n",
    "        better=\"non-university town\"\n",
    "        \n",
    "    if p<0.01:\n",
    "        different=True\n",
    "    else:\n",
    "        different=False\n",
    "\n",
    "    '''Return the tuple (different, p, better) where different=True if the t-test is\n",
    "    True at a p<0.01 (we reject the null hypothesis), or different=False if \n",
    "    otherwise (we cannot reject the null hypothesis). The variable p should\n",
    "    be equal to the exact p value returned from scipy.stats.ttest_ind(). The\n",
    "    value for better should be either \"university town\" or \"non-university town\"\n",
    "    depending on which has a lower mean price ratio (which is equivilent to a\n",
    "    reduced market loss).'''\n",
    "    return (different, p, better)\n",
    "    \n",
    "#print(run_ttest())"
   ]
  }
 ],
 "metadata": {
  "coursera": {
   "course_slug": "python-data-analysis",
   "graded_item_id": "Il9Fx",
   "launcher_item_id": "TeDW0",
   "part_id": "WGlun"
  },
  "kernelspec": {
   "display_name": "Python 2",
   "language": "python",
   "name": "python2"
  },
  "language_info": {
   "codemirror_mode": {
    "name": "ipython",
    "version": 2
   },
   "file_extension": ".py",
   "mimetype": "text/x-python",
   "name": "python",
   "nbconvert_exporter": "python",
   "pygments_lexer": "ipython2",
   "version": "2.7.15"
  },
  "umich": {
   "id": "Assignment 4",
   "version": "1.1"
  }
 },
 "nbformat": 4,
 "nbformat_minor": 1
}
